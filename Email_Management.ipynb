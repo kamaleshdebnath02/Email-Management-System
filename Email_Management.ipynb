{
 "cells": [
  {
   "cell_type": "code",
   "execution_count": 1,
   "id": "1f054139-66e5-4587-8014-3b9fbac3d159",
   "metadata": {},
   "outputs": [],
   "source": [
    "import pandas as pd\n",
    "import re\n"
   ]
  },
  {
   "cell_type": "code",
   "execution_count": 2,
   "id": "ffef25db-0812-450b-8f21-856bb1d84892",
   "metadata": {},
   "outputs": [],
   "source": [
    "# Step 1: Read the CSV file with the correct encoding\n",
    "try:\n",
    "    df = pd.read_csv('emails_db.csv', encoding='utf-8-sig')\n",
    "except UnicodeDecodeError:\n",
    "    # If decoding fails, try 'latin1' encoding\n",
    "    df = pd.read_csv('emails_db.csv', encoding='latin1')\n"
   ]
  },
  {
   "cell_type": "code",
   "execution_count": 3,
   "id": "b29f5691-d862-4284-867b-7889d61c8c56",
   "metadata": {},
   "outputs": [],
   "source": [
    "# Strip whitespace from column names\n",
    "df.columns = df.columns.str.strip()\n"
   ]
  },
  {
   "cell_type": "code",
   "execution_count": 5,
   "id": "e75f5c56-f51a-40eb-8c6b-fd040ceddc24",
   "metadata": {},
   "outputs": [],
   "source": [
    "if 'email' not in df.columns:\n",
    "    print(\"The 'email' column was not found in the CSV file. Available columns are:\", df.columns.tolist())"
   ]
  },
  {
   "cell_type": "code",
   "execution_count": 6,
   "id": "37db1724-ffad-40aa-a601-5e6c56bf8cf6",
   "metadata": {},
   "outputs": [],
   "source": [
    "    # Strip whitespace from email addresses\n",
    "    df['email'] = df['email'].str.strip()\n"
   ]
  },
  {
   "cell_type": "code",
   "execution_count": 7,
   "id": "8dc0ae73-f505-4514-8fe8-0ed0a2efcdc4",
   "metadata": {},
   "outputs": [],
   "source": [
    "    # Remove rows where 'email' is missing or empty\n",
    "    df = df[df['email'].notnull()]\n",
    "    df = df[df['email'] != '']\n"
   ]
  },
  {
   "cell_type": "code",
   "execution_count": 8,
   "id": "d63fadb3-b2f1-4881-97b5-98fcc403b6bd",
   "metadata": {},
   "outputs": [],
   "source": [
    "    # Remove duplicates\n",
    "    df = df.drop_duplicates(subset=['email'])\n"
   ]
  },
  {
   "cell_type": "code",
   "execution_count": 9,
   "id": "37a751ff-072c-41a7-81ca-81e25f88572b",
   "metadata": {},
   "outputs": [],
   "source": [
    "    # Optionally, validate email addresses using a regex\n",
    "    email_regex = r'^[\\w\\.-]+@[\\w\\.-]+\\.\\w+$'\n",
    "    df = df[df['email'].apply(lambda x: re.match(email_regex, x) is not None)]\n"
   ]
  },
  {
   "cell_type": "code",
   "execution_count": 10,
   "id": "610eeea0-6643-42c3-8a57-ec73beb450db",
   "metadata": {},
   "outputs": [],
   "source": [
    "    # Reset index\n",
    "    df.reset_index(drop=True, inplace=True)\n"
   ]
  },
  {
   "cell_type": "code",
   "execution_count": 13,
   "id": "d2c28c9c-f8f2-4158-9246-d89ce0f36c7a",
   "metadata": {},
   "outputs": [
    {
     "name": "stdout",
     "output_type": "stream",
     "text": [
      "Data cleaned successfully. Cleaned data saved to 'emails_db_cleaned.csv'.\n"
     ]
    }
   ],
   "source": [
    "    # Save the cleaned data to a new CSV file\n",
    "    df.to_csv('emails_db_cleaned.csv', index=False)\n",
    "    print(\"Data cleaned successfully. Cleaned data saved to 'emails_db_cleaned.csv'.\")\n"
   ]
  },
  {
   "cell_type": "code",
   "execution_count": 14,
   "id": "b9c975ae-edfe-4942-bbcb-b7b1e57ff685",
   "metadata": {},
   "outputs": [
    {
     "name": "stdout",
     "output_type": "stream",
     "text": [
      "First few rows of the cleaned data:\n",
      "                         email\n",
      "0       1980bhagaban@gmail.com\n",
      "1        tapacharjee@gmail.com\n",
      "2  sunitasarkar@rediffmail.com\n",
      "3        dharsourish@gmail.com\n",
      "4        abhi.021983@gmail.com\n"
     ]
    }
   ],
   "source": [
    "# Load and display the cleaned data\n",
    "df_cleaned = pd.read_csv('emails_db_cleaned.csv')\n",
    "print(\"First few rows of the cleaned data:\")\n",
    "print(df_cleaned.head())\n"
   ]
  },
  {
   "cell_type": "code",
   "execution_count": 15,
   "id": "77c7f136-cf38-4169-9b55-3b68f11d618e",
   "metadata": {},
   "outputs": [
    {
     "name": "stdout",
     "output_type": "stream",
     "text": [
      "Rows with missing emails:\n",
      "Empty DataFrame\n",
      "Columns: [email]\n",
      "Index: []\n"
     ]
    }
   ],
   "source": [
    "import pandas as pd\n",
    "\n",
    "# Load the CSV file\n",
    "df = pd.read_csv('emails_db_cleaned.csv')\n",
    "\n",
    "# Identify rows where the 'email' column is missing or empty\n",
    "missing_emails = df[df['email'].isna() | df['email'].str.strip().eq('')]\n",
    "\n",
    "# Output the rows with missing 'email' values\n",
    "print(\"Rows with missing emails:\")\n",
    "print(missing_emails)\n"
   ]
  },
  {
   "cell_type": "code",
   "execution_count": 18,
   "id": "ca9b9d61-fbc5-4083-ad1a-14e440bd99c9",
   "metadata": {},
   "outputs": [
    {
     "name": "stdout",
     "output_type": "stream",
     "text": [
      "No duplicate rows found.\n",
      "\n",
      "No duplicate email IDs found.\n"
     ]
    }
   ],
   "source": [
    "import pandas as pd\n",
    "\n",
    "# Read the CSV file\n",
    "df = pd.read_csv('emails_db.csv')\n",
    "\n",
    "# Check for duplicate rows\n",
    "duplicate_rows = df[df.duplicated(keep=False)]\n",
    "if not duplicate_rows.empty:\n",
    "    print(\"Duplicate Rows Found:\")\n",
    "    # Reset index to get original row numbers\n",
    "    duplicate_rows = duplicate_rows.reset_index()\n",
    "    print(duplicate_rows[['index'] + list(df.columns)])\n",
    "else:\n",
    "    print(\"No duplicate rows found.\")\n",
    "\n",
    "# Check for duplicate email IDs\n",
    "duplicate_emails = df[df['email'].duplicated(keep=False)]\n",
    "if not duplicate_emails.empty:\n",
    "    print(\"\\nDuplicate Email IDs Found:\")\n",
    "    # Reset index to get original row numbers\n",
    "    duplicate_emails = duplicate_emails.reset_index()\n",
    "    print(duplicate_emails[['index', 'email']])\n",
    "else:\n",
    "    print(\"\\nNo duplicate email IDs found.\")\n"
   ]
  },
  {
   "cell_type": "code",
   "execution_count": 19,
   "id": "9591b72b-6e51-46af-b096-3de9e048cf3f",
   "metadata": {},
   "outputs": [
    {
     "name": "stdout",
     "output_type": "stream",
     "text": [
      "No duplicate email IDs found.\n"
     ]
    }
   ],
   "source": [
    "import pandas as pd\n",
    "\n",
    "# Read the CSV file\n",
    "df = pd.read_csv('emails_db.csv')\n",
    "\n",
    "# Ensure that 'email' column exists\n",
    "if 'email' not in df.columns:\n",
    "    raise ValueError(\"The 'email' column is not present in the CSV file.\")\n",
    "\n",
    "# Identify duplicate email IDs\n",
    "# 'keep=False' marks all duplicates as True\n",
    "duplicate_emails = df[df['email'].duplicated(keep=False)].copy()\n",
    "\n",
    "if not duplicate_emails.empty:\n",
    "    # Reset index to get original row numbers\n",
    "    duplicate_emails.reset_index(inplace=True)\n",
    "    print(\"Duplicate Email IDs Found:\")\n",
    "    print(duplicate_emails[['index', 'email']])\n",
    "else:\n",
    "    print(\"No duplicate email IDs found.\")\n"
   ]
  },
  {
   "cell_type": "code",
   "execution_count": 22,
   "id": "36cddf67-cdc8-4b1b-8a37-97230834f58e",
   "metadata": {},
   "outputs": [
    {
     "name": "stdout",
     "output_type": "stream",
     "text": [
      "\n",
      "No empty rows in the 'email' column found.\n",
      "\n",
      "No duplicate rows found.\n",
      "\n",
      "No duplicate email IDs found.\n"
     ]
    }
   ],
   "source": [
    "import pandas as pd\n",
    "\n",
    "def find_empty_and_duplicate_emails(file_path):\n",
    "    # Step 1: Load the CSV file\n",
    "    try:\n",
    "        df = pd.read_csv(file_path)\n",
    "    except FileNotFoundError:\n",
    "        print(f\"File '{file_path}' not found. Please check the file path.\")\n",
    "        return\n",
    "    except pd.errors.EmptyDataError:\n",
    "        print(f\"File '{file_path}' is empty.\")\n",
    "        return\n",
    "    except Exception as e:\n",
    "        print(f\"An error occurred while reading the file: {e}\")\n",
    "        return\n",
    "\n",
    "    # Step 2: Ensure the necessary columns 'index' and 'email' exist\n",
    "    if 'index' not in df.columns or 'email' not in df.columns:\n",
    "        print(\"The CSV file must contain both 'index' and 'email' columns.\")\n",
    "        return\n",
    "\n",
    "    # Step 3: Check for empty rows in the 'email' column\n",
    "    empty_email_rows = df[df['email'].isnull() | (df['email'].str.strip() == '')].copy()\n",
    "\n",
    "    if not empty_email_rows.empty:\n",
    "        print(\"\\nEmpty Rows in 'email' Column Found:\")\n",
    "        print(empty_email_rows[['index', 'email']])\n",
    "    else:\n",
    "        print(\"\\nNo empty rows in the 'email' column found.\")\n",
    "\n",
    "    # Step 4: Remove leading/trailing spaces from 'email' column\n",
    "    df['email'] = df['email'].str.strip()\n",
    "\n",
    "    # Step 5: Check for duplicate rows\n",
    "    duplicate_rows = df[df.duplicated(keep=False)].copy()\n",
    "\n",
    "    if not duplicate_rows.empty:\n",
    "        print(\"\\nDuplicate Rows Found:\")\n",
    "        print(duplicate_rows[['index', 'email']])\n",
    "    else:\n",
    "        print(\"\\nNo duplicate rows found.\")\n",
    "\n",
    "    # Step 6: Check for duplicate email addresses (case-insensitive)\n",
    "    df['email_lower'] = df['email'].str.lower()\n",
    "    duplicate_emails = df[df['email_lower'].duplicated(keep=False)].copy()\n",
    "\n",
    "    if not duplicate_emails.empty:\n",
    "        print(\"\\nDuplicate Email IDs Found (Case-Insensitive):\")\n",
    "        print(duplicate_emails[['index', 'email']])\n",
    "    else:\n",
    "        print(\"\\nNo duplicate email IDs found.\")\n",
    "\n",
    "# Replace 'emails_db.csv' with the actual file path\n",
    "file_path = 'emails_db.csv'\n",
    "find_empty_and_duplicate_emails(file_path)\n"
   ]
  },
  {
   "cell_type": "code",
   "execution_count": 23,
   "id": "3888803e-364e-4b49-b784-1415a549bb10",
   "metadata": {},
   "outputs": [
    {
     "name": "stdout",
     "output_type": "stream",
     "text": [
      "\n",
      "No empty rows in the 'email' column found.\n"
     ]
    }
   ],
   "source": [
    "import pandas as pd\n",
    "\n",
    "def find_empty_email_rows(file_path):\n",
    "    # Step 1: Load the CSV file\n",
    "    try:\n",
    "        df = pd.read_csv(file_path)\n",
    "    except FileNotFoundError:\n",
    "        print(f\"File '{file_path}' not found. Please check the file path.\")\n",
    "        return\n",
    "    except pd.errors.EmptyDataError:\n",
    "        print(f\"File '{file_path}' is empty.\")\n",
    "        return\n",
    "    except Exception as e:\n",
    "        print(f\"An error occurred while reading the file: {e}\")\n",
    "        return\n",
    "\n",
    "    # Step 2: Ensure the 'email' column exists\n",
    "    if 'email' not in df.columns:\n",
    "        print(\"The 'email' column is not present in the CSV file.\")\n",
    "        return\n",
    "\n",
    "    # Step 3: Check for empty rows in the 'email' column\n",
    "    empty_email_rows = df[df['email'].isnull() | (df['email'].str.strip() == '')].copy()\n",
    "\n",
    "    if not empty_email_rows.empty:\n",
    "        print(\"\\nEmpty Rows in 'email' Column Found:\")\n",
    "        print(empty_email_rows[['index', 'email']])\n",
    "    else:\n",
    "        print(\"\\nNo empty rows in the 'email' column found.\")\n",
    "\n",
    "# Replace 'emails_db.csv' with the actual file path\n",
    "file_path = 'emails_db.csv'\n",
    "find_empty_email_rows(file_path)\n"
   ]
  },
  {
   "cell_type": "code",
   "execution_count": 24,
   "id": "f5559466-7cba-455b-b37e-741bc47d914b",
   "metadata": {},
   "outputs": [
    {
     "name": "stdout",
     "output_type": "stream",
     "text": [
      "Requirement already satisfied: pandas in c:\\python311\\lib\\site-packages (1.5.3)Note: you may need to restart the kernel to use updated packages.\n",
      "\n",
      "Requirement already satisfied: streamlit in c:\\python311\\lib\\site-packages (1.36.0)\n",
      "Requirement already satisfied: streamlit-option-menu in c:\\python311\\lib\\site-packages (0.3.13)\n",
      "Requirement already satisfied: python-dateutil>=2.8.1 in c:\\python311\\lib\\site-packages (from pandas) (2.9.0.post0)\n",
      "Requirement already satisfied: pytz>=2020.1 in c:\\python311\\lib\\site-packages (from pandas) (2024.1)\n",
      "Requirement already satisfied: numpy>=1.21.0 in c:\\python311\\lib\\site-packages (from pandas) (1.24.3)\n",
      "Requirement already satisfied: altair<6,>=4.0 in c:\\python311\\lib\\site-packages (from streamlit) (5.3.0)\n",
      "Requirement already satisfied: blinker<2,>=1.0.0 in c:\\python311\\lib\\site-packages (from streamlit) (1.8.2)\n",
      "Requirement already satisfied: cachetools<6,>=4.0 in c:\\python311\\lib\\site-packages (from streamlit) (5.3.3)\n",
      "Requirement already satisfied: click<9,>=7.0 in c:\\python311\\lib\\site-packages (from streamlit) (8.1.7)\n",
      "Requirement already satisfied: packaging<25,>=20 in c:\\python311\\lib\\site-packages (from streamlit) (24.1)\n",
      "Requirement already satisfied: pillow<11,>=7.1.0 in c:\\python311\\lib\\site-packages (from streamlit) (9.5.0)\n",
      "Requirement already satisfied: protobuf<6,>=3.20 in c:\\python311\\lib\\site-packages (from streamlit) (4.25.3)\n",
      "Requirement already satisfied: pyarrow>=7.0 in c:\\python311\\lib\\site-packages (from streamlit) (16.1.0)\n",
      "Requirement already satisfied: requests<3,>=2.27 in c:\\python311\\lib\\site-packages (from streamlit) (2.31.0)\n",
      "Requirement already satisfied: rich<14,>=10.14.0 in c:\\python311\\lib\\site-packages (from streamlit) (13.7.1)\n",
      "Requirement already satisfied: tenacity<9,>=8.1.0 in c:\\python311\\lib\\site-packages (from streamlit) (8.4.1)\n",
      "Requirement already satisfied: toml<2,>=0.10.1 in c:\\python311\\lib\\site-packages (from streamlit) (0.10.2)\n",
      "Requirement already satisfied: typing-extensions<5,>=4.3.0 in c:\\python311\\lib\\site-packages (from streamlit) (4.12.2)\n",
      "Requirement already satisfied: gitpython!=3.1.19,<4,>=3.0.7 in c:\\python311\\lib\\site-packages (from streamlit) (3.1.43)\n",
      "Requirement already satisfied: pydeck<1,>=0.8.0b4 in c:\\python311\\lib\\site-packages (from streamlit) (0.9.1)\n",
      "Requirement already satisfied: tornado<7,>=6.0.3 in c:\\python311\\lib\\site-packages (from streamlit) (6.4.1)\n",
      "Requirement already satisfied: watchdog<5,>=2.1.5 in c:\\python311\\lib\\site-packages (from streamlit) (4.0.1)\n",
      "Requirement already satisfied: jinja2 in c:\\python311\\lib\\site-packages (from altair<6,>=4.0->streamlit) (3.1.2)\n",
      "Requirement already satisfied: jsonschema>=3.0 in c:\\python311\\lib\\site-packages (from altair<6,>=4.0->streamlit) (4.20.0)\n",
      "Requirement already satisfied: toolz in c:\\python311\\lib\\site-packages (from altair<6,>=4.0->streamlit) (0.12.1)\n",
      "Requirement already satisfied: colorama in c:\\python311\\lib\\site-packages (from click<9,>=7.0->streamlit) (0.4.6)\n",
      "Requirement already satisfied: gitdb<5,>=4.0.1 in c:\\python311\\lib\\site-packages (from gitpython!=3.1.19,<4,>=3.0.7->streamlit) (4.0.11)\n",
      "Requirement already satisfied: six>=1.5 in c:\\python311\\lib\\site-packages (from python-dateutil>=2.8.1->pandas) (1.16.0)\n",
      "Requirement already satisfied: charset-normalizer<4,>=2 in c:\\python311\\lib\\site-packages (from requests<3,>=2.27->streamlit) (3.1.0)\n",
      "Requirement already satisfied: idna<4,>=2.5 in c:\\python311\\lib\\site-packages (from requests<3,>=2.27->streamlit) (3.4)\n",
      "Requirement already satisfied: urllib3<3,>=1.21.1 in c:\\python311\\lib\\site-packages (from requests<3,>=2.27->streamlit) (2.0.3)\n",
      "Requirement already satisfied: certifi>=2017.4.17 in c:\\python311\\lib\\site-packages (from requests<3,>=2.27->streamlit) (2023.5.7)\n",
      "Requirement already satisfied: markdown-it-py>=2.2.0 in c:\\python311\\lib\\site-packages (from rich<14,>=10.14.0->streamlit) (3.0.0)\n",
      "Requirement already satisfied: pygments<3.0.0,>=2.13.0 in c:\\python311\\lib\\site-packages (from rich<14,>=10.14.0->streamlit) (2.18.0)\n",
      "Requirement already satisfied: smmap<6,>=3.0.1 in c:\\python311\\lib\\site-packages (from gitdb<5,>=4.0.1->gitpython!=3.1.19,<4,>=3.0.7->streamlit) (5.0.1)\n",
      "Requirement already satisfied: MarkupSafe>=2.0 in c:\\python311\\lib\\site-packages (from jinja2->altair<6,>=4.0->streamlit) (2.1.3)\n",
      "Requirement already satisfied: attrs>=22.2.0 in c:\\python311\\lib\\site-packages (from jsonschema>=3.0->altair<6,>=4.0->streamlit) (23.1.0)\n",
      "Requirement already satisfied: jsonschema-specifications>=2023.03.6 in c:\\python311\\lib\\site-packages (from jsonschema>=3.0->altair<6,>=4.0->streamlit) (2023.11.2)\n",
      "Requirement already satisfied: referencing>=0.28.4 in c:\\python311\\lib\\site-packages (from jsonschema>=3.0->altair<6,>=4.0->streamlit) (0.31.1)\n",
      "Requirement already satisfied: rpds-py>=0.7.1 in c:\\python311\\lib\\site-packages (from jsonschema>=3.0->altair<6,>=4.0->streamlit) (0.13.2)\n",
      "Requirement already satisfied: mdurl~=0.1 in c:\\python311\\lib\\site-packages (from markdown-it-py>=2.2.0->rich<14,>=10.14.0->streamlit) (0.1.2)\n"
     ]
    },
    {
     "name": "stderr",
     "output_type": "stream",
     "text": [
      "\n",
      "[notice] A new release of pip is available: 24.1.1 -> 24.2\n",
      "[notice] To update, run: python.exe -m pip install --upgrade pip\n"
     ]
    }
   ],
   "source": [
    "pip install pandas streamlit streamlit-option-menu\n"
   ]
  },
  {
   "cell_type": "code",
   "execution_count": 29,
   "id": "586b9f63-69fe-4f26-84de-0543b815c0e3",
   "metadata": {},
   "outputs": [],
   "source": [
    "\n",
    "\n",
    "import streamlit as st\n",
    "import pandas as pd\n",
    "import os\n",
    "from streamlit_option_menu import option_menu\n",
    "# Define the path to your main database CSV file\n",
    "database_path = 'emails_db.csv'\n",
    "\n",
    "# Load the main database\n",
    "if os.path.exists(database_path):\n",
    "    df_database = pd.read_csv(database_path)\n",
    "    # Ensure the 'email' column exists\n",
    "    if 'email' not in df_database.columns:\n",
    "        st.error(\"The 'email' column is not present in the main database.\")\n",
    "    else:\n",
    "        df_database['email'] = df_database['email'].str.strip().str.lower()\n",
    "        df_database.drop_duplicates(subset='email', inplace=True)\n",
    "else:\n",
    "    st.warning(\"Main database not found. A new one will be created upon updating.\")\n",
    "    df_database = pd.DataFrame(columns=['email'])\n",
    "\n",
    "def clean_email_data(df, email_column='email'):\n",
    "    # Convert to lowercase and strip whitespace\n",
    "    df[email_column] = df[email_column].str.strip().str.lower()\n",
    "    \n",
    "    # Remove rows with missing or invalid emails\n",
    "    df = df[df[email_column].notnull()]\n",
    "    df = df[df[email_column] != '']\n",
    "    \n",
    "    # Remove duplicates within the uploaded file\n",
    "    df = df.drop_duplicates(subset=email_column)\n",
    "    \n",
    "    return df\n",
    "\n",
    "def find_duplicates(uploaded_emails, database_emails):\n",
    "    # Identify duplicates between uploaded_emails and database_emails\n",
    "    duplicates = uploaded_emails[uploaded_emails.isin(database_emails)]\n",
    "    unique_emails = uploaded_emails[~uploaded_emails.isin(database_emails)]\n",
    "    return duplicates, unique_emails\n",
    "\n",
    "def update_main_database(unique_emails_df, database_path):\n",
    "    # Append unique emails to the main database\n",
    "    updated_db = pd.concat([df_database, unique_emails_df]).drop_duplicates(subset='email').reset_index(drop=True)\n",
    "    \n",
    "    # Save the updated database\n",
    "    updated_db.to_csv(database_path, index=False)\n",
    "    return updated_db\n"
   ]
  },
  {
   "cell_type": "code",
   "execution_count": null,
   "id": "b9f38211-3b37-47a0-82ae-cad9543b7f3d",
   "metadata": {},
   "outputs": [],
   "source": []
  }
 ],
 "metadata": {
  "kernelspec": {
   "display_name": "Python 3 (ipykernel)",
   "language": "python",
   "name": "python3"
  },
  "language_info": {
   "codemirror_mode": {
    "name": "ipython",
    "version": 3
   },
   "file_extension": ".py",
   "mimetype": "text/x-python",
   "name": "python",
   "nbconvert_exporter": "python",
   "pygments_lexer": "ipython3",
   "version": "3.11.4"
  }
 },
 "nbformat": 4,
 "nbformat_minor": 5
}
